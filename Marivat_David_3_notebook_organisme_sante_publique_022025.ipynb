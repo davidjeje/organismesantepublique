{
 "cells": [
  {
   "cell_type": "markdown",
   "id": "08c452ea-8401-4b7b-8068-88fc685072b9",
   "metadata": {},
   "source": [
    "<h1 style=\"text-align: center; font-weight: bold;\"><u>Étape 3 Identifier et traiter les valeurs manquantes</u></h1>"
   ]
  },
  {
   "cell_type": "markdown",
   "id": "a3901373-0e44-4b00-a11c-9c476f9d6bb2",
   "metadata": {},
   "source": [
    "<h2 style=\"font-weight: bold;\"><u>Import et chargement des données</u></h2>"
   ]
  },
  {
   "cell_type": "code",
   "execution_count": 2,
   "id": "294612ce-c47c-4a51-9a0d-6f1617a5fa8b",
   "metadata": {},
   "outputs": [],
   "source": [
    "# Importation des bibliothèques\n",
    "import pandas as pd, numpy as np\n",
    "from myFonctions import remove_duplicates, calculate_mode, replace_nan_with_stat, calculate_mean, calculate_median, SimpleImputer, enable_iterative_imputer, IterativeImputer, BayesianRidge, display_boxplot_with_stats, detect_outliers, replace_outliers, impute_missing_values\n",
    "from sklearn.linear_model import LinearRegression\n",
    "from sklearn.model_selection import train_test_split\n",
    "from sklearn.impute import KNNImputer\n",
    "\n",
    "# Lire le fichier CSV\n",
    "nutritional_products = pd.read_csv(\"data/foodfacts.csv\", sep=\"\\t\", encoding=\"utf-8\", low_memory=False)"
   ]
  },
  {
   "cell_type": "markdown",
   "id": "58f3f3c5-d9c8-4777-9dd9-660c5a75ab5d",
   "metadata": {},
   "source": [
    "<h2 style=\"font-weight: bold;\">3.A) <u>Nettoyer les données</u></h2>"
   ]
  },
  {
   "cell_type": "code",
   "execution_count": 3,
   "id": "ff63e5ac-8c8a-4e49-b9cb-05ecbfa1c759",
   "metadata": {},
   "outputs": [
    {
     "name": "stdout",
     "output_type": "stream",
     "text": [
      "Colonnes spécifiques sélectionnées avec plus de 50% de valeurs manquantes :\n",
      "omega-6-fat_100g         0.058609\n",
      "omega-3-fat_100g         0.262180\n",
      "energy-from-fat_100g     0.267168\n",
      "iron_100g               43.788735\n",
      "calcium_100g            43.972042\n",
      "dtype: float64\n"
     ]
    }
   ],
   "source": [
    "# Sélectionne les colonnes spécifiques qu'on souhaite\n",
    "colonnes_specifiques = ['omega-3-fat_100g', 'omega-6-fat_100g', 'iron_100g', 'calcium_100g', 'energy-from-fat_100g']\n",
    "\n",
    "# Calculer le taux de remplissage pour ces colonnes spécifiques\n",
    "taux_remplissage_colonnes_specifiques = nutritional_products[colonnes_specifiques].notnull().mean() * 100\n",
    "\n",
    "seuil = 50  # On cherche les colonnes avec plus de 50% de valeurs manquantes\n",
    "\n",
    "# Appliquer un seuil de 50% pour identifier les colonnes manquantes\n",
    "colonnes_manquantes_specifiques = taux_remplissage_colonnes_specifiques[taux_remplissage_colonnes_specifiques <= seuil]\n",
    "\n",
    "print(\"Colonnes spécifiques sélectionnées avec plus de 50% de valeurs manquantes :\")\n",
    "print(colonnes_manquantes_specifiques.sort_values())"
   ]
  },
  {
   "cell_type": "code",
   "execution_count": 4,
   "id": "18d75632-b60c-43a4-9b61-cc2bbbed5438",
   "metadata": {},
   "outputs": [
    {
     "name": "stdout",
     "output_type": "stream",
     "text": [
      "omega-3-fat_100g        319931\n",
      "omega-6-fat_100g        320584\n",
      "iron_100g               180310\n",
      "calcium_100g            179722\n",
      "energy-from-fat_100g    319915\n",
      "dtype: int64\n"
     ]
    }
   ],
   "source": [
    "# Sélectionner les colonnes spécifiques\n",
    "colonnes_specifiques = ['omega-3-fat_100g', 'omega-6-fat_100g', 'iron_100g', 'calcium_100g', 'energy-from-fat_100g']\n",
    "\n",
    "# Calculer le nombre de valeurs manquantes pour chaque colonne sélectionnée\n",
    "number = nutritional_products[colonnes_specifiques].isnull().sum()\n",
    "\n",
    "# Affichage du résultat\n",
    "print(number)"
   ]
  },
  {
   "cell_type": "code",
   "execution_count": 5,
   "id": "27987349-3c96-4f1f-8c08-b8da2aff8f62",
   "metadata": {},
   "outputs": [
    {
     "name": "stdout",
     "output_type": "stream",
     "text": [
      "omega-3-fat_100g        float64\n",
      "omega-6-fat_100g        float64\n",
      "iron_100g               float64\n",
      "calcium_100g            float64\n",
      "energy-from-fat_100g    float64\n",
      "dtype: object\n"
     ]
    }
   ],
   "source": [
    "# Sélectionner les colonnes spécifiques\n",
    "colonnes_specifiques = ['omega-3-fat_100g', 'omega-6-fat_100g', 'iron_100g', 'calcium_100g', 'energy-from-fat_100g']\n",
    "\n",
    "# Afficher les types de données des colonnes spécifiques\n",
    "types_colonnes_specifiques = nutritional_products[colonnes_specifiques].dtypes\n",
    "\n",
    "print(types_colonnes_specifiques)\n"
   ]
  },
  {
   "cell_type": "markdown",
   "id": "893acc6b-d36a-47f9-8dcb-44f239e59089",
   "metadata": {},
   "source": [
    "<h3 style=\"font-weight: bold;\"><u>Remplacement NAN par le mode</u></h3>"
   ]
  },
  {
   "cell_type": "markdown",
   "id": "e0234df6-5da1-4bcb-86d4-b882bb76934b",
   "metadata": {},
   "source": [
    "**Le mode** est la modalité ou la valeur la plus fréquente dans un ensemble de données."
   ]
  },
  {
   "cell_type": "code",
   "execution_count": 6,
   "id": "451058ba-5e94-4241-b58a-5ae460ee19d7",
   "metadata": {},
   "outputs": [
    {
     "name": "stdout",
     "output_type": "stream",
     "text": [
      "Mode des colonnes spécifiées :\n",
      "   omega-3-fat_100g  omega-6-fat_100g  iron_100g  calcium_100g  \\\n",
      "0               2.0               1.1        0.0           0.0   \n",
      "\n",
      "   energy-from-fat_100g  \n",
      "0                   0.0  \n"
     ]
    }
   ],
   "source": [
    "# Exemple d'application des fonctions sur les colonnes spécifiques\n",
    "colonnes_specifiques = ['omega-3-fat_100g', 'omega-6-fat_100g', 'iron_100g', 'calcium_100g', 'energy-from-fat_100g']\n",
    "\n",
    "# Calcul du mode\n",
    "mode_result = calculate_mode(nutritional_products, columns=colonnes_specifiques)\n",
    "print(\"Mode des colonnes spécifiées :\")\n",
    "print(mode_result)"
   ]
  },
  {
   "cell_type": "code",
   "execution_count": 7,
   "id": "ab4c170a-79e4-4b2a-999b-77e25765ce93",
   "metadata": {},
   "outputs": [
    {
     "name": "stdout",
     "output_type": "stream",
     "text": [
      "\n",
      "Valeurs NaN avant remplacement:\n",
      "omega-3-fat_100g        319931\n",
      "omega-6-fat_100g        320584\n",
      "iron_100g               180310\n",
      "calcium_100g            179722\n",
      "energy-from-fat_100g    319915\n",
      "dtype: int64\n",
      "\n",
      "Valeurs NaN après remplacement:\n",
      "omega-3-fat_100g        0\n",
      "omega-6-fat_100g        0\n",
      "iron_100g               0\n",
      "calcium_100g            0\n",
      "energy-from-fat_100g    0\n",
      "dtype: int64\n"
     ]
    }
   ],
   "source": [
    "# Exemple d'application des fonctions sur les colonnes spécifiques\n",
    "colonnes_specifiques = ['omega-3-fat_100g', 'omega-6-fat_100g', 'iron_100g', 'calcium_100g', 'energy-from-fat_100g']\n",
    "\n",
    "print(\"\\nValeurs NaN avant remplacement:\")\n",
    "print(nutritional_products[colonnes_specifiques].isna().sum())\n",
    "\n",
    "df_mode_replaced = replace_nan_with_stat(nutritional_products, columns=colonnes_specifiques, stat='mode')\n",
    "\n",
    "print(\"\\nValeurs NaN après remplacement:\")\n",
    "print(df_mode_replaced[colonnes_specifiques].isna().sum())\n"
   ]
  },
  {
   "cell_type": "markdown",
   "id": "fc4c74e0-539e-42fe-ac03-09019c1a3b45",
   "metadata": {},
   "source": [
    "<h3 style=\"font-weight: bold;\"><u>Remplacement NAN par la moyenne</u></h3>"
   ]
  },
  {
   "cell_type": "markdown",
   "id": "64c81966-367f-45ad-9186-aaddd77b5df6",
   "metadata": {},
   "source": [
    "### **La moyenne**\n",
    "La **moyenne** (ou moyenne arithmétique) est la somme de toutes les valeurs d'un ensemble de données, divisée par le nombre total de valeurs. Elle donne une idée du \"centre\" des données."
   ]
  },
  {
   "cell_type": "code",
   "execution_count": 8,
   "id": "5577a1f5-f0c2-44d3-9d1c-3d2c223e95ea",
   "metadata": {},
   "outputs": [
    {
     "name": "stdout",
     "output_type": "stream",
     "text": [
      "\n",
      "Moyenne des colonnes spécifiées :\n",
      "omega-3-fat_100g          3.182103\n",
      "omega-6-fat_100g         16.229144\n",
      "iron_100g                 0.003652\n",
      "calcium_100g              0.125163\n",
      "energy-from-fat_100g    585.501214\n",
      "dtype: float64\n"
     ]
    }
   ],
   "source": [
    "# Exemple d'application des fonctions sur les colonnes spécifiques\n",
    "colonnes_specifiques = ['omega-3-fat_100g', 'omega-6-fat_100g', 'iron_100g', 'calcium_100g', 'energy-from-fat_100g']\n",
    "\n",
    "# Calcul de la moyenne\n",
    "mean_result = calculate_mean(nutritional_products, columns=colonnes_specifiques)\n",
    "print(\"\\nMoyenne des colonnes spécifiées :\")\n",
    "print(mean_result)"
   ]
  },
  {
   "cell_type": "code",
   "execution_count": 9,
   "id": "567b6eb3-68a9-4fb5-997a-034282470c27",
   "metadata": {},
   "outputs": [
    {
     "name": "stdout",
     "output_type": "stream",
     "text": [
      "\n",
      "Valeurs NaN avant remplacement:\n",
      "omega-3-fat_100g        319931\n",
      "omega-6-fat_100g        320584\n",
      "iron_100g               180310\n",
      "calcium_100g            179722\n",
      "energy-from-fat_100g    319915\n",
      "dtype: int64\n",
      "\n",
      "Valeurs NaN après remplacement:\n",
      "omega-3-fat_100g        0\n",
      "omega-6-fat_100g        0\n",
      "iron_100g               0\n",
      "calcium_100g            0\n",
      "energy-from-fat_100g    0\n",
      "dtype: int64\n"
     ]
    }
   ],
   "source": [
    "# Exemple d'application des fonctions sur les colonnes spécifiques\n",
    "colonnes_specifiques = ['omega-3-fat_100g', 'omega-6-fat_100g', 'iron_100g', 'calcium_100g', 'energy-from-fat_100g']\n",
    "\n",
    "print(\"\\nValeurs NaN avant remplacement:\")\n",
    "print(nutritional_products[colonnes_specifiques].isna().sum())\n",
    "\n",
    "df_mean_replaced = replace_nan_with_stat(nutritional_products, columns=colonnes_specifiques, stat='mean')\n",
    "\n",
    "print(\"\\nValeurs NaN après remplacement:\")\n",
    "print(df_mean_replaced[colonnes_specifiques].isna().sum())\n"
   ]
  },
  {
   "cell_type": "markdown",
   "id": "7047740e-f2a2-4524-8079-f7b7f7310d58",
   "metadata": {},
   "source": [
    "<h3 style=\"font-weight: bold;\"><u>Remplacement NAN par la médiane</u></h3>"
   ]
  },
  {
   "cell_type": "markdown",
   "id": "197def75-8659-46e5-9a23-423dea9b3b20",
   "metadata": {},
   "source": [
    "### **La médiane**\n",
    "La **médiane** est la valeur qui sépare un ensemble de données en deux parties égales lorsque les données sont triées dans l'ordre croissant ou décroissant. Si l'ensemble de données contient un nombre impair de valeurs, la médiane est la valeur du milieu. Si l'ensemble de données contient un nombre pair de valeurs, la médiane est la moyenne des deux valeurs centrales.\n",
    "\n",
    "- **Si n est impair** : la médiane est la valeur centrale.\n",
    "- **Si n est pair** : la médiane est la moyenne des deux valeurs centrales."
   ]
  },
  {
   "cell_type": "code",
   "execution_count": 10,
   "id": "36ac6b5f-6fc8-47bc-a5da-f92c3474915f",
   "metadata": {},
   "outputs": [
    {
     "name": "stdout",
     "output_type": "stream",
     "text": [
      "\n",
      "Médiane des colonnes spécifiées :\n",
      "omega-3-fat_100g          1.80000\n",
      "omega-6-fat_100g         10.05000\n",
      "iron_100g                 0.00101\n",
      "calcium_100g              0.03500\n",
      "energy-from-fat_100g    300.00000\n",
      "dtype: float64\n"
     ]
    }
   ],
   "source": [
    "# Exemple d'application des fonctions sur les colonnes spécifiques\n",
    "colonnes_specifiques = ['omega-3-fat_100g', 'omega-6-fat_100g', 'iron_100g', 'calcium_100g', 'energy-from-fat_100g']\n",
    "\n",
    "# Calcul de la médiane\n",
    "median_result = calculate_median(nutritional_products, columns=colonnes_specifiques)\n",
    "print(\"\\nMédiane des colonnes spécifiées :\")\n",
    "print(median_result)"
   ]
  },
  {
   "cell_type": "code",
   "execution_count": 11,
   "id": "bb9313d7-2fc2-46f8-a25b-7122e424dc92",
   "metadata": {},
   "outputs": [
    {
     "name": "stdout",
     "output_type": "stream",
     "text": [
      "\n",
      "Valeurs NaN avant remplacement:\n",
      "omega-3-fat_100g        319931\n",
      "omega-6-fat_100g        320584\n",
      "iron_100g               180310\n",
      "calcium_100g            179722\n",
      "energy-from-fat_100g    319915\n",
      "dtype: int64\n",
      "\n",
      "Valeurs NaN après remplacement:\n",
      "omega-3-fat_100g        0\n",
      "omega-6-fat_100g        0\n",
      "iron_100g               0\n",
      "calcium_100g            0\n",
      "energy-from-fat_100g    0\n",
      "dtype: int64\n"
     ]
    }
   ],
   "source": [
    "# Exemple d'application des fonctions sur les colonnes spécifiques\n",
    "colonnes_specifiques = ['omega-3-fat_100g', 'omega-6-fat_100g', 'iron_100g', 'calcium_100g', 'energy-from-fat_100g']\n",
    "\n",
    "print(\"\\nValeurs NaN avant remplacement:\")\n",
    "print(nutritional_products[colonnes_specifiques].isna().sum())\n",
    "\n",
    "df_median_replaced = replace_nan_with_stat(nutritional_products, columns=colonnes_specifiques, stat='median')\n",
    "\n",
    "print(\"\\nValeurs NaN après remplacement:\")\n",
    "print(df_median_replaced[colonnes_specifiques].isna().sum())\n"
   ]
  },
  {
   "cell_type": "code",
   "execution_count": 12,
   "id": "3e2b4c3c-f9ee-4a58-973f-4c0bcac642c7",
   "metadata": {},
   "outputs": [
    {
     "name": "stdout",
     "output_type": "stream",
     "text": [
      "       omega-3-fat_100g  omega-6-fat_100g      iron_100g   calcium_100g  \\\n",
      "count     320772.000000     320772.000000  320772.000000  320772.000000   \n",
      "mean           1.803624         10.053622       0.002167       0.074647   \n",
      "std            0.295553          0.448506       0.141886       2.200838   \n",
      "min            0.000000          0.050000      -0.000260       0.000000   \n",
      "25%            1.800000         10.050000       0.001010       0.035000   \n",
      "50%            1.800000         10.050000       0.001010       0.035000   \n",
      "75%            1.800000         10.050000       0.001010       0.035000   \n",
      "max           60.000000         71.000000      50.000000     694.737000   \n",
      "\n",
      "       energy-from-fat_100g  \n",
      "count         320772.000000  \n",
      "mean             300.762768  \n",
      "std               39.662140  \n",
      "min                0.000000  \n",
      "25%              300.000000  \n",
      "50%              300.000000  \n",
      "75%              300.000000  \n",
      "max             3830.000000  \n"
     ]
    }
   ],
   "source": [
    "# Exemple d'application des fonctions sur les colonnes spécifiques\n",
    "colonnes_specifiques = ['omega-3-fat_100g', 'omega-6-fat_100g', 'iron_100g', 'calcium_100g', 'energy-from-fat_100g']\n",
    "\n",
    "df_median_replaced = replace_nan_with_stat(nutritional_products, columns=colonnes_specifiques, stat='median')\n",
    "print(df_median_replaced[colonnes_specifiques].describe())  # Vérifie les statistiques générales"
   ]
  },
  {
   "cell_type": "markdown",
   "id": "19b60b23-a779-43c7-8b66-733e02d42629",
   "metadata": {},
   "source": [
    "<h3 style=\"font-weight: bold;\"><u>Remplacement NAN par la méthode iterative imputer</u></h3>"
   ]
  },
  {
   "cell_type": "markdown",
   "id": "4d57b0e5-5967-4c40-8801-51c6b9015875",
   "metadata": {},
   "source": [
    "### **Iterative Imputer**\n",
    "\n",
    "L'**Iterative Imputer** est une méthode d'imputation des valeurs manquantes dans un ensemble de données. Contrairement aux méthodes simples telles que la moyenne ou la médiane, qui impute une valeur constante pour les données manquantes, l'Iterative Imputer utilise un modèle itératif pour prédire les valeurs manquantes en fonction des autres caractéristiques."
   ]
  },
  {
   "cell_type": "code",
   "execution_count": 13,
   "id": "926df289-61f3-4ca9-8f61-3f7342d43b9f",
   "metadata": {},
   "outputs": [
    {
     "name": "stdout",
     "output_type": "stream",
     "text": [
      "\n",
      "Valeurs NaN avant remplacement:\n",
      "omega-3-fat_100g        319931\n",
      "omega-6-fat_100g        320584\n",
      "iron_100g               180310\n",
      "calcium_100g            179722\n",
      "energy-from-fat_100g    319915\n",
      "dtype: int64\n",
      "\n",
      "Valeurs NaN après remplacement:\n",
      "omega-3-fat_100g        0\n",
      "omega-6-fat_100g        0\n",
      "iron_100g               0\n",
      "calcium_100g            0\n",
      "energy-from-fat_100g    0\n",
      "dtype: int64\n"
     ]
    }
   ],
   "source": [
    "print(\"\\nValeurs NaN avant remplacement:\")\n",
    "print(nutritional_products[colonnes_specifiques].isna().sum())\n",
    "\n",
    "# Imputation seulement sur les colonnes 'omega-3-fat_100g', 'omega-6-fat_100g', 'iron_100g', 'calcium_100g' et 'energy-from-fat_100g'\n",
    "df_imputed_selected = impute_missing_values(nutritional_products, columns=['omega-3-fat_100g', 'omega-6-fat_100g', 'iron_100g', 'calcium_100g', 'energy-from-fat_100g'])\n",
    "\n",
    "\n",
    "print(\"\\nValeurs NaN après remplacement:\")\n",
    "print(df_imputed_selected[colonnes_specifiques].isna().sum())"
   ]
  },
  {
   "cell_type": "code",
   "execution_count": null,
   "id": "23c1abc0-4945-43ad-8f8c-71fcfa91f8f8",
   "metadata": {},
   "outputs": [],
   "source": []
  }
 ],
 "metadata": {
  "kernelspec": {
   "display_name": "Poetry Environnement",
   "language": "python",
   "name": "poetry-env"
  },
  "language_info": {
   "codemirror_mode": {
    "name": "ipython",
    "version": 3
   },
   "file_extension": ".py",
   "mimetype": "text/x-python",
   "name": "python",
   "nbconvert_exporter": "python",
   "pygments_lexer": "ipython3",
   "version": "3.13.1"
  }
 },
 "nbformat": 4,
 "nbformat_minor": 5
}
