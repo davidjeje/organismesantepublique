{
 "cells": [
  {
   "cell_type": "markdown",
   "id": "08c452ea-8401-4b7b-8068-88fc685072b9",
   "metadata": {},
   "source": [
    "<h1 style=\"text-align: center; font-weight: bold;\"><u>Étape 3 Identifier et traiter les valeurs manquantes</u></h1>"
   ]
  },
  {
   "cell_type": "markdown",
   "id": "a3901373-0e44-4b00-a11c-9c476f9d6bb2",
   "metadata": {},
   "source": [
    "<h2 style=\"font-weight: bold;\"><u>Import et chargement des données</u></h2>"
   ]
  },
  {
   "cell_type": "code",
   "execution_count": 2,
   "id": "294612ce-c47c-4a51-9a0d-6f1617a5fa8b",
   "metadata": {},
   "outputs": [],
   "source": [
    "# Importation des bibliothèques pandas et numpy\n",
    "import pandas as pd\n",
    "import numpy as np\n",
    "from myFonctions import remove_duplicates\n",
    "from myFonctions import calculate_mode\n",
    "from myFonctions import replace_nan_with_stat\n",
    "from myFonctions import calculate_mean\n",
    "from myFonctions import calculate_median\n",
    "from sklearn.linear_model import LinearRegression\n",
    "from sklearn.model_selection import train_test_split\n",
    "from sklearn.impute import SimpleImputer\n",
    "from sklearn.impute import KNNImputer\n",
    "from sklearn.experimental import enable_iterative_imputer\n",
    "from sklearn.impute import IterativeImputer\n",
    "from sklearn.linear_model import BayesianRidge\n",
    "from myFonctions import display_boxplot_with_stats\n",
    "from myFonctions import detect_outliers\n",
    "from myFonctions import replace_outliers\n",
    "from myFonctions import impute_missing_values\n",
    "\n",
    "# Lire le fichier CSV\n",
    "nutritional_products = pd.read_csv(\"data/foodfacts.csv\", sep=\"\\t\", encoding=\"utf-8\", low_memory=False)"
   ]
  },
  {
   "cell_type": "markdown",
   "id": "58f3f3c5-d9c8-4777-9dd9-660c5a75ab5d",
   "metadata": {},
   "source": [
    "<h2 style=\"font-weight: bold;\">3.A) <u>Nettoyer les données</u></h2>"
   ]
  },
  {
   "cell_type": "code",
   "execution_count": 3,
   "id": "ff63e5ac-8c8a-4e49-b9cb-05ecbfa1c759",
   "metadata": {},
   "outputs": [
    {
     "name": "stdout",
     "output_type": "stream",
     "text": [
      "Colonnes spécifiques sélectionnées avec plus de 50% de valeurs manquantes :\n",
      "omega-6-fat_100g         0.058609\n",
      "omega-3-fat_100g         0.262180\n",
      "energy-from-fat_100g     0.267168\n",
      "iron_100g               43.788735\n",
      "calcium_100g            43.972042\n",
      "dtype: float64\n"
     ]
    }
   ],
   "source": [
    "# Sélectionne les colonnes spécifiques qu'on souhaite\n",
    "colonnes_specifiques = ['omega-3-fat_100g', 'omega-6-fat_100g', 'iron_100g', 'calcium_100g', 'energy-from-fat_100g']\n",
    "\n",
    "# Calculer le taux de remplissage pour ces colonnes spécifiques\n",
    "taux_remplissage_colonnes_specifiques = nutritional_products[colonnes_specifiques].notnull().mean() * 100\n",
    "\n",
    "seuil = 50  # On cherche les colonnes avec plus de 50% de valeurs manquantes\n",
    "\n",
    "# Appliquer un seuil de 50% pour identifier les colonnes manquantes\n",
    "colonnes_manquantes_specifiques = taux_remplissage_colonnes_specifiques[taux_remplissage_colonnes_specifiques <= seuil]\n",
    "\n",
    "print(\"Colonnes spécifiques sélectionnées avec plus de 50% de valeurs manquantes :\")\n",
    "print(colonnes_manquantes_specifiques.sort_values())"
   ]
  },
  {
   "cell_type": "code",
   "execution_count": 4,
   "id": "18d75632-b60c-43a4-9b61-cc2bbbed5438",
   "metadata": {},
   "outputs": [
    {
     "name": "stdout",
     "output_type": "stream",
     "text": [
      "omega-3-fat_100g        319931\n",
      "omega-6-fat_100g        320584\n",
      "iron_100g               180310\n",
      "calcium_100g            179722\n",
      "energy-from-fat_100g    319915\n",
      "dtype: int64\n"
     ]
    }
   ],
   "source": [
    "# Sélectionner les colonnes spécifiques\n",
    "colonnes_specifiques = ['omega-3-fat_100g', 'omega-6-fat_100g', 'iron_100g', 'calcium_100g', 'energy-from-fat_100g']\n",
    "\n",
    "# Calculer le nombre de valeurs manquantes pour chaque colonne sélectionnée\n",
    "number = nutritional_products[colonnes_specifiques].isnull().sum()\n",
    "\n",
    "# Affichage du résultat\n",
    "print(number)"
   ]
  },
  {
   "cell_type": "code",
   "execution_count": 5,
   "id": "27987349-3c96-4f1f-8c08-b8da2aff8f62",
   "metadata": {},
   "outputs": [
    {
     "name": "stdout",
     "output_type": "stream",
     "text": [
      "omega-3-fat_100g        float64\n",
      "omega-6-fat_100g        float64\n",
      "iron_100g               float64\n",
      "calcium_100g            float64\n",
      "energy-from-fat_100g    float64\n",
      "dtype: object\n"
     ]
    }
   ],
   "source": [
    "# Sélectionner les colonnes spécifiques\n",
    "colonnes_specifiques = ['omega-3-fat_100g', 'omega-6-fat_100g', 'iron_100g', 'calcium_100g', 'energy-from-fat_100g']\n",
    "\n",
    "# Afficher les types de données des colonnes spécifiques\n",
    "types_colonnes_specifiques = nutritional_products[colonnes_specifiques].dtypes\n",
    "\n",
    "print(types_colonnes_specifiques)\n"
   ]
  },
  {
   "cell_type": "markdown",
   "id": "893acc6b-d36a-47f9-8dcb-44f239e59089",
   "metadata": {},
   "source": [
    "<h3 style=\"font-weight: bold;\"><u>Remplacement NAN par le mode</u></h3>"
   ]
  },
  {
   "cell_type": "code",
   "execution_count": 6,
   "id": "451058ba-5e94-4241-b58a-5ae460ee19d7",
   "metadata": {},
   "outputs": [
    {
     "name": "stdout",
     "output_type": "stream",
     "text": [
      "Mode des colonnes spécifiées :\n",
      "   omega-3-fat_100g  omega-6-fat_100g  iron_100g  calcium_100g  \\\n",
      "0               2.0               1.1        0.0           0.0   \n",
      "\n",
      "   energy-from-fat_100g  \n",
      "0                   0.0  \n"
     ]
    }
   ],
   "source": [
    "# Exemple d'application des fonctions sur les colonnes spécifiques\n",
    "colonnes_specifiques = ['omega-3-fat_100g', 'omega-6-fat_100g', 'iron_100g', 'calcium_100g', 'energy-from-fat_100g']\n",
    "\n",
    "# Calcul du mode\n",
    "mode_result = calculate_mode(nutritional_products, columns=colonnes_specifiques)\n",
    "print(\"Mode des colonnes spécifiées :\")\n",
    "print(mode_result)"
   ]
  },
  {
   "cell_type": "code",
   "execution_count": 7,
   "id": "ab4c170a-79e4-4b2a-999b-77e25765ce93",
   "metadata": {},
   "outputs": [
    {
     "name": "stdout",
     "output_type": "stream",
     "text": [
      "\n",
      "Valeurs NaN avant remplacement:\n",
      "omega-3-fat_100g        319931\n",
      "omega-6-fat_100g        320584\n",
      "iron_100g               180310\n",
      "calcium_100g            179722\n",
      "energy-from-fat_100g    319915\n",
      "dtype: int64\n",
      "\n",
      "Valeurs NaN après remplacement:\n",
      "omega-3-fat_100g        0\n",
      "omega-6-fat_100g        0\n",
      "iron_100g               0\n",
      "calcium_100g            0\n",
      "energy-from-fat_100g    0\n",
      "dtype: int64\n"
     ]
    }
   ],
   "source": [
    "# Exemple d'application des fonctions sur les colonnes spécifiques\n",
    "colonnes_specifiques = ['omega-3-fat_100g', 'omega-6-fat_100g', 'iron_100g', 'calcium_100g', 'energy-from-fat_100g']\n",
    "\n",
    "print(\"\\nValeurs NaN avant remplacement:\")\n",
    "print(nutritional_products[colonnes_specifiques].isna().sum())\n",
    "\n",
    "df_mode_replaced = replace_nan_with_stat(nutritional_products, columns=colonnes_specifiques, stat='mode')\n",
    "\n",
    "print(\"\\nValeurs NaN après remplacement:\")\n",
    "print(df_mode_replaced[colonnes_specifiques].isna().sum())\n"
   ]
  },
  {
   "cell_type": "markdown",
   "id": "fc4c74e0-539e-42fe-ac03-09019c1a3b45",
   "metadata": {},
   "source": [
    "<h3 style=\"font-weight: bold;\"><u>Remplacement NAN par la moyenne</u></h3>"
   ]
  },
  {
   "cell_type": "code",
   "execution_count": 8,
   "id": "5577a1f5-f0c2-44d3-9d1c-3d2c223e95ea",
   "metadata": {},
   "outputs": [
    {
     "name": "stdout",
     "output_type": "stream",
     "text": [
      "\n",
      "Moyenne des colonnes spécifiées :\n",
      "omega-3-fat_100g          3.182103\n",
      "omega-6-fat_100g         16.229144\n",
      "iron_100g                 0.003652\n",
      "calcium_100g              0.125163\n",
      "energy-from-fat_100g    585.501214\n",
      "dtype: float64\n"
     ]
    }
   ],
   "source": [
    "# Exemple d'application des fonctions sur les colonnes spécifiques\n",
    "colonnes_specifiques = ['omega-3-fat_100g', 'omega-6-fat_100g', 'iron_100g', 'calcium_100g', 'energy-from-fat_100g']\n",
    "\n",
    "# Calcul de la moyenne\n",
    "mean_result = calculate_mean(nutritional_products, columns=colonnes_specifiques)\n",
    "print(\"\\nMoyenne des colonnes spécifiées :\")\n",
    "print(mean_result)"
   ]
  },
  {
   "cell_type": "code",
   "execution_count": 9,
   "id": "567b6eb3-68a9-4fb5-997a-034282470c27",
   "metadata": {},
   "outputs": [
    {
     "name": "stdout",
     "output_type": "stream",
     "text": [
      "\n",
      "Valeurs NaN avant remplacement:\n",
      "omega-3-fat_100g        319931\n",
      "omega-6-fat_100g        320584\n",
      "iron_100g               180310\n",
      "calcium_100g            179722\n",
      "energy-from-fat_100g    319915\n",
      "dtype: int64\n",
      "\n",
      "Valeurs NaN après remplacement:\n",
      "omega-3-fat_100g        0\n",
      "omega-6-fat_100g        0\n",
      "iron_100g               0\n",
      "calcium_100g            0\n",
      "energy-from-fat_100g    0\n",
      "dtype: int64\n"
     ]
    }
   ],
   "source": [
    "# Exemple d'application des fonctions sur les colonnes spécifiques\n",
    "colonnes_specifiques = ['omega-3-fat_100g', 'omega-6-fat_100g', 'iron_100g', 'calcium_100g', 'energy-from-fat_100g']\n",
    "\n",
    "print(\"\\nValeurs NaN avant remplacement:\")\n",
    "print(nutritional_products[colonnes_specifiques].isna().sum())\n",
    "\n",
    "df_mean_replaced = replace_nan_with_stat(nutritional_products, columns=colonnes_specifiques, stat='mean')\n",
    "\n",
    "print(\"\\nValeurs NaN après remplacement:\")\n",
    "print(df_mean_replaced[colonnes_specifiques].isna().sum())\n"
   ]
  },
  {
   "cell_type": "markdown",
   "id": "7047740e-f2a2-4524-8079-f7b7f7310d58",
   "metadata": {},
   "source": [
    "<h3 style=\"font-weight: bold;\"><u>Remplacement NAN par la médiane</u></h3>"
   ]
  },
  {
   "cell_type": "code",
   "execution_count": 10,
   "id": "36ac6b5f-6fc8-47bc-a5da-f92c3474915f",
   "metadata": {},
   "outputs": [
    {
     "name": "stdout",
     "output_type": "stream",
     "text": [
      "\n",
      "Médiane des colonnes spécifiées :\n",
      "omega-3-fat_100g          1.80000\n",
      "omega-6-fat_100g         10.05000\n",
      "iron_100g                 0.00101\n",
      "calcium_100g              0.03500\n",
      "energy-from-fat_100g    300.00000\n",
      "dtype: float64\n"
     ]
    }
   ],
   "source": [
    "# Exemple d'application des fonctions sur les colonnes spécifiques\n",
    "colonnes_specifiques = ['omega-3-fat_100g', 'omega-6-fat_100g', 'iron_100g', 'calcium_100g', 'energy-from-fat_100g']\n",
    "\n",
    "# Calcul de la médiane\n",
    "median_result = calculate_median(nutritional_products, columns=colonnes_specifiques)\n",
    "print(\"\\nMédiane des colonnes spécifiées :\")\n",
    "print(median_result)"
   ]
  },
  {
   "cell_type": "code",
   "execution_count": 11,
   "id": "bb9313d7-2fc2-46f8-a25b-7122e424dc92",
   "metadata": {},
   "outputs": [
    {
     "name": "stdout",
     "output_type": "stream",
     "text": [
      "\n",
      "Valeurs NaN avant remplacement:\n",
      "omega-3-fat_100g        319931\n",
      "omega-6-fat_100g        320584\n",
      "iron_100g               180310\n",
      "calcium_100g            179722\n",
      "energy-from-fat_100g    319915\n",
      "dtype: int64\n",
      "\n",
      "Valeurs NaN après remplacement:\n",
      "omega-3-fat_100g        0\n",
      "omega-6-fat_100g        0\n",
      "iron_100g               0\n",
      "calcium_100g            0\n",
      "energy-from-fat_100g    0\n",
      "dtype: int64\n"
     ]
    }
   ],
   "source": [
    "# Exemple d'application des fonctions sur les colonnes spécifiques\n",
    "colonnes_specifiques = ['omega-3-fat_100g', 'omega-6-fat_100g', 'iron_100g', 'calcium_100g', 'energy-from-fat_100g']\n",
    "\n",
    "print(\"\\nValeurs NaN avant remplacement:\")\n",
    "print(nutritional_products[colonnes_specifiques].isna().sum())\n",
    "\n",
    "df_median_replaced = replace_nan_with_stat(nutritional_products, columns=colonnes_specifiques, stat='median')\n",
    "\n",
    "print(\"\\nValeurs NaN après remplacement:\")\n",
    "print(df_median_replaced[colonnes_specifiques].isna().sum())\n"
   ]
  },
  {
   "cell_type": "code",
   "execution_count": 12,
   "id": "3e2b4c3c-f9ee-4a58-973f-4c0bcac642c7",
   "metadata": {},
   "outputs": [
    {
     "name": "stdout",
     "output_type": "stream",
     "text": [
      "       omega-3-fat_100g  omega-6-fat_100g      iron_100g   calcium_100g  \\\n",
      "count     320772.000000     320772.000000  320772.000000  320772.000000   \n",
      "mean           1.803624         10.053622       0.002167       0.074647   \n",
      "std            0.295553          0.448506       0.141886       2.200838   \n",
      "min            0.000000          0.050000      -0.000260       0.000000   \n",
      "25%            1.800000         10.050000       0.001010       0.035000   \n",
      "50%            1.800000         10.050000       0.001010       0.035000   \n",
      "75%            1.800000         10.050000       0.001010       0.035000   \n",
      "max           60.000000         71.000000      50.000000     694.737000   \n",
      "\n",
      "       energy-from-fat_100g  \n",
      "count         320772.000000  \n",
      "mean             300.762768  \n",
      "std               39.662140  \n",
      "min                0.000000  \n",
      "25%              300.000000  \n",
      "50%              300.000000  \n",
      "75%              300.000000  \n",
      "max             3830.000000  \n"
     ]
    }
   ],
   "source": [
    "# Exemple d'application des fonctions sur les colonnes spécifiques\n",
    "colonnes_specifiques = ['omega-3-fat_100g', 'omega-6-fat_100g', 'iron_100g', 'calcium_100g', 'energy-from-fat_100g']\n",
    "\n",
    "df_median_replaced = replace_nan_with_stat(nutritional_products, columns=colonnes_specifiques, stat='median')\n",
    "print(df_median_replaced[colonnes_specifiques].describe())  # Vérifie les statistiques générales"
   ]
  },
  {
   "cell_type": "markdown",
   "id": "19b60b23-a779-43c7-8b66-733e02d42629",
   "metadata": {},
   "source": [
    "<h3 style=\"font-weight: bold;\"><u>Remplacement NAN par la méthode iterative imputer</u></h3>"
   ]
  },
  {
   "cell_type": "code",
   "execution_count": 14,
   "id": "926df289-61f3-4ca9-8f61-3f7342d43b9f",
   "metadata": {},
   "outputs": [
    {
     "name": "stdout",
     "output_type": "stream",
     "text": [
      "\n",
      "Valeurs NaN avant remplacement:\n",
      "omega-3-fat_100g        319931\n",
      "omega-6-fat_100g        320584\n",
      "iron_100g               180310\n",
      "calcium_100g            179722\n",
      "energy-from-fat_100g    319915\n",
      "dtype: int64\n",
      "\n",
      "Valeurs NaN après remplacement:\n",
      "omega-3-fat_100g        0\n",
      "omega-6-fat_100g        0\n",
      "iron_100g               0\n",
      "calcium_100g            0\n",
      "energy-from-fat_100g    0\n",
      "dtype: int64\n"
     ]
    }
   ],
   "source": [
    "print(\"\\nValeurs NaN avant remplacement:\")\n",
    "print(nutritional_products[colonnes_specifiques].isna().sum())\n",
    "\n",
    "# Imputation seulement sur les colonnes 'omega-3-fat_100g', 'omega-6-fat_100g', 'iron_100g', 'calcium_100g' et 'energy-from-fat_100g'\n",
    "df_imputed_selected = impute_missing_values(nutritional_products, columns=['omega-3-fat_100g', 'omega-6-fat_100g', 'iron_100g', 'calcium_100g', 'energy-from-fat_100g'])\n",
    "\n",
    "\n",
    "print(\"\\nValeurs NaN après remplacement:\")\n",
    "print(df_imputed_selected[colonnes_specifiques].isna().sum())"
   ]
  },
  {
   "cell_type": "markdown",
   "id": "c98df7ac-005a-4017-8511-5740b798bdf9",
   "metadata": {},
   "source": [
    "<h3 style=\"font-weight: bold;\"><u>Valeurs aberrantes</u></h3>"
   ]
  },
  {
   "cell_type": "markdown",
   "id": "e1c9a628-408c-4a8f-bf50-5b9abf78df33",
   "metadata": {},
   "source": [
    "<h4 style=\"font-weight: bold;\"><u>omega-3-fat_100g</u></h4> "
   ]
  },
  {
   "cell_type": "code",
   "execution_count": null,
   "id": "230c638d-fe38-447b-8174-63993c6b87ee",
   "metadata": {},
   "outputs": [],
   "source": [
    "# Cette fonction affiche le box plot pour la variable 'omega-3-fat_100g' sans remplacer les nan\n",
    "display_boxplot_with_stats(nutritional_products, 'omega-3-fat_100g')"
   ]
  },
  {
   "cell_type": "code",
   "execution_count": null,
   "id": "eea6ee84-a920-4385-bd35-23c883ae4b02",
   "metadata": {},
   "outputs": [],
   "source": [
    "# Sélectionner les colonnes à utiliser pour l'imputation\n",
    "colonnes_specifiques = ['omega-3-fat_100g', 'omega-6-fat_100g', 'iron_100g', 'calcium_100g', 'energy-from-fat_100g']\n",
    "\n",
    "# Sélectionner les colonnes pertinentes pour l'imputation\n",
    "df = nutritional_products[['omega-3-fat_100g', 'omega-6-fat_100g']]  # Ne conserver que les colonnes essentielles\n",
    "\n",
    "# Séparer les lignes où 'omega-3-fat_100g' n'a pas de valeur (NaN)\n",
    "df_no_nan = df.dropna(subset=['omega-3-fat_100g'])\n",
    "\n",
    "# Séparer les lignes où 'omega-3-fat_100g' a une valeur manquante\n",
    "df_nan = df[df['omega-3-fat_100g'].isna()]\n",
    "\n",
    "# Définir X (variables explicatives) et y (variable à prédire) pour les lignes sans NaN\n",
    "X = df_no_nan.drop(columns=['omega-3-fat_100g'])  # On retire la colonne 'omega-3-fat_100g'\n",
    "y = df_no_nan['omega-3-fat_100g']\n",
    "\n",
    "# Imputer les valeurs manquantes dans X (pour que le modèle puisse s'entraîner)\n",
    "imputer = SimpleImputer(strategy='mean')  # Remplace les NaN par la moyenne\n",
    "X_imputed = pd.DataFrame(imputer.fit_transform(X), columns=X.columns)\n",
    "\n",
    "# Diviser les données en un jeu d'entraînement et un jeu de test (pour valider le modèle)\n",
    "X_train, X_test, y_train, y_test = train_test_split(X_imputed, y, test_size=0.2, random_state=42)\n",
    "\n",
    "# Initialiser le modèle de régression linéaire\n",
    "model = LinearRegression()\n",
    "\n",
    "# Entraîner le modèle sur les données d'entraînement\n",
    "model.fit(X_train, y_train)\n",
    "\n",
    "# Prédire les valeurs de 'omega-3-fat_100g' pour les lignes avec NaN\n",
    "X_nan = df_nan.drop(columns=['omega-3-fat_100g'])  # Sélectionner les colonnes explicatives\n",
    "X_nan_imputed = imputer.transform(X_nan)  # Appliquer l'imputation aux données avec NaN\n",
    "y_pred = model.predict(X_nan_imputed)\n",
    "\n",
    "# Créer une copie du DataFrame pour éviter l'avertissement de modification de vue\n",
    "df_copy = df.copy()\n",
    "\n",
    "# Remplacer les NaN par les prédictions du modèle\n",
    "df_copy.loc[df_copy['omega-3-fat_100g'].isna(), 'omega-3-fat_100g'] = y_pred\n",
    "\n",
    "# Afficher un boxplot de la colonne 'omega-3-fat_100g' après imputation\n",
    "display_boxplot_with_stats(df_copy, column_name='omega-3-fat_100g')\n",
    "\n",
    "# Vérification du résultat\n",
    "print(df_copy.head())\n"
   ]
  },
  {
   "cell_type": "code",
   "execution_count": null,
   "id": "83e9fa7f-1a95-4d21-aca3-5cff9749a7b8",
   "metadata": {},
   "outputs": [],
   "source": [
    "# Sélection des colonnes spécifiques à traiter\n",
    "colonnes_specifiques = ['omega-3-fat_100g', 'omega-6-fat_100g', 'iron_100g', 'calcium_100g', 'energy-from-fat_100g']\n",
    "\n",
    "df_median_replaced = replace_nan_with_stat(nutritional_products, columns=colonnes_specifiques, stat='median')\n",
    "\n",
    "display_boxplot_with_stats(df_median_replaced, 'omega-3-fat_100g')\n"
   ]
  },
  {
   "cell_type": "code",
   "execution_count": null,
   "id": "bd998137-ea8d-4ba4-a631-2b0cfd1bf3c8",
   "metadata": {},
   "outputs": [],
   "source": [
    "# Exemple d'application des fonctions sur les colonnes spécifiques\n",
    "colonnes_specifiques = ['omega-3-fat_100g', 'omega-6-fat_100g', 'iron_100g', 'calcium_100g', 'energy-from-fat_100g']\n",
    "\n",
    "# Détection des outliers\n",
    "outliers_detected = detect_outliers(nutritional_products, columns=colonnes_specifiques, method=\"IQR\", plausibility_check=True)\n",
    "\n",
    "# Remplacement des outliers par la médiane\n",
    "df_cleaned = replace_outliers(nutritional_products, outliers_detected, columns=colonnes_specifiques, strategy=\"median\")\n",
    "\n",
    "# Afficher les résultats\n",
    "print(\"\\nNombre d'outliers détectés par colonne :\")\n",
    "print(outliers_detected.sum())\n",
    "\n",
    "print(\"\\nValeurs NaN restantes après remplacement des outliers :\")\n",
    "print(df_cleaned[colonnes_specifiques].isna().sum())"
   ]
  },
  {
   "cell_type": "code",
   "execution_count": null,
   "id": "4d85dd4b-e527-4ccd-80a1-18abc30cd763",
   "metadata": {},
   "outputs": [],
   "source": [
    "# Exemple d'application des fonctions sur les colonnes spécifiques\n",
    "colonnes_specifiques = ['omega-3-fat_100g', 'omega-6-fat_100g', 'iron_100g', 'calcium_100g', 'energy-from-fat_100g']\n",
    "\n",
    "# Détection des outliers\n",
    "outliers_detected = detect_outliers(nutritional_products, columns=colonnes_specifiques, method=\"IQR\", plausibility_check=True)\n",
    "\n",
    "# Remplacement des outliers par la médiane\n",
    "df_cleaned = replace_outliers(nutritional_products, outliers_detected, columns=colonnes_specifiques, strategy=\"median\")\n",
    "\n",
    "# Cette fonction affiche le box plot pour la variable 'geo_point_2d_a'\n",
    "display_boxplot_with_stats(df_cleaned, 'omega-3-fat_100g')"
   ]
  },
  {
   "cell_type": "markdown",
   "id": "9ecb1bf1-38c6-4ae6-89be-38dad8e36db3",
   "metadata": {},
   "source": [
    "<h4 style=\"font-weight: bold;\"><u>omega-6-fat_100g</u></h4> "
   ]
  },
  {
   "cell_type": "code",
   "execution_count": null,
   "id": "94b6fa4d-9818-4706-bceb-b763dd1936ff",
   "metadata": {},
   "outputs": [],
   "source": [
    "# Cette fonction affiche le box plot pour la variable 'omega-3-fat_100g' sans remplacer les nan\n",
    "display_boxplot_with_stats(nutritional_products, 'omega-6-fat_100g')"
   ]
  },
  {
   "cell_type": "code",
   "execution_count": null,
   "id": "8b6dcf2e-2e95-431b-b1bf-184b29265bef",
   "metadata": {},
   "outputs": [],
   "source": [
    "# Exemple d'application des fonctions sur les colonnes spécifiques\n",
    "colonnes_specifiques = ['omega-3-fat_100g', 'omega-6-fat_100g', 'iron_100g', 'calcium_100g', 'energy-from-fat_100g']\n",
    "\n",
    "# Détection des outliers\n",
    "outliers_detected = detect_outliers(nutritional_products, columns=colonnes_specifiques, method=\"IQR\", plausibility_check=True)\n",
    "\n",
    "# Remplacement des outliers par la médiane\n",
    "df_cleaned = replace_outliers(nutritional_products, outliers_detected, columns=colonnes_specifiques, strategy=\"median\")\n",
    "\n",
    "# Cette fonction affiche le box plot pour la variable 'geo_point_2d_a'\n",
    "display_boxplot_with_stats(df_cleaned, 'omega-6-fat_100g')"
   ]
  },
  {
   "cell_type": "markdown",
   "id": "5806adcb-91c7-4e90-b333-8e1a7fc9d47d",
   "metadata": {},
   "source": [
    "<h4 style=\"font-weight: bold;\"><u>iron_100g</u></h4> "
   ]
  },
  {
   "cell_type": "code",
   "execution_count": null,
   "id": "7e688c70-8db4-42c8-9412-e8f498637a80",
   "metadata": {},
   "outputs": [],
   "source": [
    "# Cette fonction affiche le box plot pour la variable 'omega-3-fat_100g' sans remplacer les nan\n",
    "display_boxplot_with_stats(nutritional_products, 'iron_100g')"
   ]
  },
  {
   "cell_type": "code",
   "execution_count": null,
   "id": "0a9c5866-2655-4764-a0ae-866592351e4e",
   "metadata": {},
   "outputs": [],
   "source": [
    "# Exemple d'application des fonctions sur les colonnes spécifiques\n",
    "colonnes_specifiques = ['omega-3-fat_100g', 'omega-6-fat_100g', 'iron_100g', 'calcium_100g', 'energy-from-fat_100g']\n",
    "\n",
    "# Détection des outliers\n",
    "outliers_detected = detect_outliers(nutritional_products, columns=colonnes_specifiques, method=\"IQR\", plausibility_check=True)\n",
    "\n",
    "# Remplacement des outliers par la médiane\n",
    "df_cleaned = replace_outliers(nutritional_products, outliers_detected, columns=colonnes_specifiques, strategy=\"median\")\n",
    "\n",
    "# Cette fonction affiche le box plot pour la variable 'geo_point_2d_a'\n",
    "display_boxplot_with_stats(df_cleaned, 'iron_100g')"
   ]
  },
  {
   "cell_type": "markdown",
   "id": "4a443855-a466-47f9-acd3-f68f1475bdc6",
   "metadata": {},
   "source": [
    "<h4 style=\"font-weight: bold;\"><u>calcium_100g</u></h4> "
   ]
  },
  {
   "cell_type": "code",
   "execution_count": null,
   "id": "fd17a513-262a-47c0-a64c-f9db9b6d0340",
   "metadata": {},
   "outputs": [],
   "source": [
    "# Cette fonction affiche le box plot pour la variable 'omega-3-fat_100g' sans remplacer les nan\n",
    "display_boxplot_with_stats(nutritional_products, 'calcium_100g')"
   ]
  },
  {
   "cell_type": "code",
   "execution_count": null,
   "id": "e9a9cb45-1e4b-435e-9da9-5ef54aaa5f31",
   "metadata": {},
   "outputs": [],
   "source": [
    "# Exemple d'application des fonctions sur les colonnes spécifiques\n",
    "colonnes_specifiques = ['omega-3-fat_100g', 'omega-6-fat_100g', 'iron_100g', 'calcium_100g', 'energy-from-fat_100g']\n",
    "\n",
    "# Détection des outliers\n",
    "outliers_detected = detect_outliers(nutritional_products, columns=colonnes_specifiques, method=\"IQR\", plausibility_check=True)\n",
    "\n",
    "# Remplacement des outliers par la médiane\n",
    "df_cleaned = replace_outliers(nutritional_products, outliers_detected, columns=colonnes_specifiques, strategy=\"median\")\n",
    "\n",
    "# Cette fonction affiche le box plot pour la variable 'geo_point_2d_a'\n",
    "display_boxplot_with_stats(df_cleaned, 'calcium_100g')"
   ]
  },
  {
   "cell_type": "markdown",
   "id": "169d1cf6-9fb2-4381-b2b9-0d63f59c0884",
   "metadata": {},
   "source": [
    "<h4 style=\"font-weight: bold;\"><u>energy-from-fat_100g</u></h4> "
   ]
  },
  {
   "cell_type": "code",
   "execution_count": null,
   "id": "f5dd8d36-57f6-4b01-afd5-6ac2d8ea145c",
   "metadata": {},
   "outputs": [],
   "source": [
    "# Cette fonction affiche le box plot pour la variable 'omega-3-fat_100g' sans remplacer les nan\n",
    "display_boxplot_with_stats(nutritional_products, 'energy-from-fat_100g')"
   ]
  },
  {
   "cell_type": "code",
   "execution_count": null,
   "id": "22dd3af4-719a-4ff2-8e81-55741be32d2a",
   "metadata": {},
   "outputs": [],
   "source": [
    "# Exemple d'application des fonctions sur les colonnes spécifiques\n",
    "colonnes_specifiques = ['omega-3-fat_100g', 'omega-6-fat_100g', 'iron_100g', 'calcium_100g', 'energy-from-fat_100g']\n",
    "\n",
    "# Détection des outliers\n",
    "outliers_detected = detect_outliers(nutritional_products, columns=colonnes_specifiques, method=\"IQR\", plausibility_check=True)\n",
    "\n",
    "# Remplacement des outliers par la médiane\n",
    "df_cleaned = replace_outliers(nutritional_products, outliers_detected, columns=colonnes_specifiques, strategy=\"median\")\n",
    "\n",
    "# Cette fonction affiche le box plot pour la variable 'geo_point_2d_a'\n",
    "display_boxplot_with_stats(df_cleaned, 'energy-from-fat_100g')"
   ]
  },
  {
   "cell_type": "markdown",
   "id": "503f728c-33bc-4d13-a485-ea0de463d85c",
   "metadata": {},
   "source": [
    "<h1>Pour les graphiques ou la moustache est écrasé, il faut ajouter les valeurs (texte en-dessous) pour mmieux visualiser les outliers</h1>"
   ]
  },
  {
   "cell_type": "code",
   "execution_count": null,
   "id": "23c1abc0-4945-43ad-8f8c-71fcfa91f8f8",
   "metadata": {},
   "outputs": [],
   "source": []
  }
 ],
 "metadata": {
  "kernelspec": {
   "display_name": "Poetry Environnement",
   "language": "python",
   "name": "poetry-env"
  },
  "language_info": {
   "codemirror_mode": {
    "name": "ipython",
    "version": 3
   },
   "file_extension": ".py",
   "mimetype": "text/x-python",
   "name": "python",
   "nbconvert_exporter": "python",
   "pygments_lexer": "ipython3",
   "version": "3.13.1"
  }
 },
 "nbformat": 4,
 "nbformat_minor": 5
}
