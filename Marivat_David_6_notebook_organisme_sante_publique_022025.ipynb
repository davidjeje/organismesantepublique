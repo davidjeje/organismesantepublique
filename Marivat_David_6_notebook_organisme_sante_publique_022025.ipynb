{
 "cells": [
  {
   "cell_type": "markdown",
   "id": "f8db8e12-aaf7-46c8-9071-5c084d4c087e",
   "metadata": {},
   "source": [
    "<h1 style=\"text-align: center; font-weight: bold;\"><u>Étape 6 ANOVA</u></h1>"
   ]
  },
  {
   "cell_type": "code",
   "execution_count": null,
   "id": "8a70e7a6-1832-4902-b7f8-68416169583f",
   "metadata": {},
   "outputs": [],
   "source": []
  }
 ],
 "metadata": {
  "kernelspec": {
   "display_name": "Poetry Environnement",
   "language": "python",
   "name": "poetry-env"
  },
  "language_info": {
   "codemirror_mode": {
    "name": "ipython",
    "version": 3
   },
   "file_extension": ".py",
   "mimetype": "text/x-python",
   "name": "python",
   "nbconvert_exporter": "python",
   "pygments_lexer": "ipython3",
   "version": "3.13.1"
  }
 },
 "nbformat": 4,
 "nbformat_minor": 5
}
