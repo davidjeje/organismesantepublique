{
 "cells": [
  {
   "cell_type": "markdown",
   "id": "f8db8e12-aaf7-46c8-9071-5c084d4c087e",
   "metadata": {},
   "source": [
    "<h1 style=\"text-align: center; font-weight: bold;\"><u>Étape 6 ANOVA</u></h1>"
   ]
  },
  {
   "cell_type": "markdown",
   "id": "6ca52227-cd51-4f93-8faf-83acdbfaed00",
   "metadata": {},
   "source": [
    "<h2 style=\"font-weight: bold;\"><u>Import et chargement des données</u></h2>"
   ]
  },
  {
   "cell_type": "code",
   "execution_count": 12,
   "id": "8e859b56-4244-4f74-b25a-267ee952dc36",
   "metadata": {},
   "outputs": [],
   "source": [
    "import pandas as pd\n",
    "import numpy as np\n",
    "from myFonctions import impute_missing_values, analyze_variables, get_normal_columns\n",
    "\n",
    "# Charger les données\n",
    "nutritional_products = pd.read_csv(\"data/foodfacts.csv\", sep=\"\\t\", encoding=\"utf-8\", low_memory=False)\n",
    "columns_select = ['omega-3-fat_100g', 'omega-6-fat_100g', 'iron_100g', 'calcium_100g', 'energy-from-fat_100g']"
   ]
  },
  {
   "cell_type": "markdown",
   "id": "566b769a-41b4-4f49-beff-53f13c42c8e0",
   "metadata": {},
   "source": [
    "<h2 style=\"font-weight: bold;\">6.A)<u>TESTS SHAPIRO-WILK, KOLMOGROV-SMIRNOV, LEVENE ET KRUSKAL-WALLIS</u></h2> "
   ]
  },
  {
   "cell_type": "code",
   "execution_count": 13,
   "id": "4108f1e6-fb29-44f9-94c7-2cbd413c64b1",
   "metadata": {},
   "outputs": [
    {
     "name": "stdout",
     "output_type": "stream",
     "text": [
      "\n",
      "🔹 Analyse pour omega-3-fat_100g :\n",
      "  - Test de Shapiro-Wilk : p-value = 0.00000 ❌ Non normal\n",
      "  - Test de Kolmogorov-Smirnov : p-value = 0.00000\n",
      "  - Test de Levene (homogénéité) : p-value = 0.09212 ✅ Homogène\n",
      "  - Kruskal-Wallis : p-value = 0.00000 ⚠️ Différence significative !\n",
      "\n",
      "🔹 Analyse pour omega-6-fat_100g :\n",
      "  - Test de Shapiro-Wilk : p-value = 0.00000 ❌ Non normal\n",
      "  - Test de Kolmogorov-Smirnov : p-value = 0.00000\n",
      "  - Test de Levene (homogénéité) : p-value = 0.00000 ❌ Non homogène\n",
      "  - Kruskal-Wallis : p-value = 0.00000 ⚠️ Différence significative !\n",
      "\n",
      "🔹 Analyse pour iron_100g :\n",
      "  - Test de Shapiro-Wilk : p-value = 0.00000 ❌ Non normal\n",
      "  - Test de Kolmogorov-Smirnov : p-value = 0.00000\n",
      "  - Test de Levene (homogénéité) : p-value = 0.21975 ✅ Homogène\n",
      "  - Kruskal-Wallis : p-value = 0.00000 ⚠️ Différence significative !\n",
      "\n",
      "🔹 Analyse pour calcium_100g :\n",
      "  - Test de Shapiro-Wilk : p-value = 0.00000 ❌ Non normal\n",
      "  - Test de Kolmogorov-Smirnov : p-value = 0.00000\n",
      "  - Test de Levene (homogénéité) : p-value = 0.00000 ❌ Non homogène\n",
      "  - Kruskal-Wallis : p-value = 0.00000 ⚠️ Différence significative !\n",
      "\n",
      "🔹 Analyse pour energy-from-fat_100g :\n",
      "  - Test de Shapiro-Wilk : p-value = 0.00000 ❌ Non normal\n",
      "  - Test de Kolmogorov-Smirnov : p-value = 0.00000\n",
      "  - Test de Levene (homogénéité) : p-value = 0.00000 ❌ Non homogène\n",
      "  - Kruskal-Wallis : p-value = 0.00000 ⚠️ Différence significative !\n"
     ]
    }
   ],
   "source": [
    "# Imputation seulement sur les colonnes 'omega-3-fat_100g', 'omega-6-fat_100g', 'iron_100g', 'calcium_100g' et 'energy-from-fat_100g'\n",
    "df_imputed_selected = impute_missing_values(nutritional_products, columns=columns_select)\n",
    "\n",
    "\n",
    "# Comparaison avec une sélection de variables\n",
    "analyze_variables(df_imputed_selected, 'nutrition_grade_fr', features=columns_select)"
   ]
  },
  {
   "cell_type": "code",
   "execution_count": 14,
   "id": "b8a45bb0-d2a5-4f8b-8699-d3aa4f504d26",
   "metadata": {},
   "outputs": [
    {
     "name": "stderr",
     "output_type": "stream",
     "text": [
      "C:\\Users\\david\\organismeSantePublique\\myFonctions.py:40: SmallSampleWarning: One or more sample arguments is too small; all returned values will be NaN. See documentation for sample size requirements.\n",
      "  stat, p_value = shapiro(sample)\n"
     ]
    },
    {
     "name": "stdout",
     "output_type": "stream",
     "text": [
      "Colonnes normalement distribuées : ['arachidonic-acid_100g', 'gamma-linolenic-acid_100g', 'dihomo-gamma-linolenic-acid_100g', 'maltose_100g', 'maltodextrins_100g', 'nucleotides_100g']\n"
     ]
    }
   ],
   "source": [
    "# Calcule le taux de remplissage de toutes les colonnes du DataFrame.\n",
    "taux_remplissage_colonnes = nutritional_products.notnull().mean() * 100  # Correction : utiliser le bon DataFrame\n",
    "\n",
    "seuil = 50  # On cherche les colonnes avec plus de 50% de valeurs manquantes\n",
    "colonnes_manquantes = taux_remplissage_colonnes[taux_remplissage_colonnes <= seuil]\n",
    "\n",
    "liste_colonnes_manquantes = colonnes_manquantes.index.tolist()\n",
    "\n",
    "# Identifie les colonnes normalement distribuées parmi celles avec des valeurs manquantes imputées\n",
    "columns_normal = get_normal_columns(nutritional_products, columns=liste_colonnes_manquantes)\n",
    "print(\"Colonnes normalement distribuées :\", columns_normal)\n"
   ]
  },
  {
   "cell_type": "code",
   "execution_count": 15,
   "id": "4fd1b863-1097-46a9-b3d5-27fcc1de5bf5",
   "metadata": {},
   "outputs": [
    {
     "name": "stdout",
     "output_type": "stream",
     "text": [
      "\n",
      "🔹 Analyse pour arachidonic-acid_100g :\n",
      "⚠️ Trop peu de données pour analyser cette variable.\n",
      "\n",
      "🔹 Analyse pour gamma-linolenic-acid_100g :\n",
      "⚠️ Trop peu de données pour analyser cette variable.\n",
      "\n",
      "🔹 Analyse pour dihomo-gamma-linolenic-acid_100g :\n",
      "⚠️ Trop peu de données pour analyser cette variable.\n",
      "\n",
      "🔹 Analyse pour maltose_100g :\n",
      "⚠️ Trop peu de données pour analyser cette variable.\n",
      "\n",
      "🔹 Analyse pour maltodextrins_100g :\n",
      "⚠️ Trop peu de données pour analyser cette variable.\n",
      "\n",
      "🔹 Analyse pour nucleotides_100g :\n",
      "⚠️ Trop peu de données pour analyser cette variable.\n"
     ]
    }
   ],
   "source": [
    "# Comparaison avec une sélection de variables\n",
    "analyze_variables(df_imputed_selected, 'nutrition_grade_fr', features=columns_normal)"
   ]
  },
  {
   "cell_type": "code",
   "execution_count": null,
   "id": "3ad82a55-88e7-442c-b5ad-a947c91706a7",
   "metadata": {},
   "outputs": [],
   "source": []
  }
 ],
 "metadata": {
  "kernelspec": {
   "display_name": "Poetry Environnement",
   "language": "python",
   "name": "poetry-env"
  },
  "language_info": {
   "codemirror_mode": {
    "name": "ipython",
    "version": 3
   },
   "file_extension": ".py",
   "mimetype": "text/x-python",
   "name": "python",
   "nbconvert_exporter": "python",
   "pygments_lexer": "ipython3",
   "version": "3.13.1"
  }
 },
 "nbformat": 4,
 "nbformat_minor": 5
}
