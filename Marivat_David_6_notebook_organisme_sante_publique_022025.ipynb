{
 "cells": [
  {
   "cell_type": "markdown",
   "id": "f8db8e12-aaf7-46c8-9071-5c084d4c087e",
   "metadata": {},
   "source": [
    "<h1 style=\"text-align: center; font-weight: bold;\"><u>Étape 6 ANOVA</u></h1>"
   ]
  },
  {
   "cell_type": "markdown",
   "id": "6ca52227-cd51-4f93-8faf-83acdbfaed00",
   "metadata": {},
   "source": [
    "<h2 style=\"font-weight: bold;\"><u>Import et chargement des données</u></h2>"
   ]
  },
  {
   "cell_type": "code",
   "execution_count": 1,
   "id": "8e859b56-4244-4f74-b25a-267ee952dc36",
   "metadata": {},
   "outputs": [],
   "source": [
    "# Importation des bibliothèques pandas, numpy, impute_missing_values, analyze_variables, get_normal_columns et stats\n",
    "import pandas as pd, numpy as np\n",
    "from myFonctions import impute_missing_values, analyze_variables, get_normal_columns\n",
    "import scipy.stats as stats\n",
    "\n",
    "\n",
    "# Charger les données\n",
    "nutritional_products = pd.read_csv(\"data/foodfacts.csv\", sep=\"\\t\", encoding=\"utf-8\", low_memory=False)\n",
    "columns_select = ['omega-3-fat_100g', 'omega-6-fat_100g', 'iron_100g', 'calcium_100g', 'energy-from-fat_100g']"
   ]
  },
  {
   "cell_type": "markdown",
   "id": "566b769a-41b4-4f49-beff-53f13c42c8e0",
   "metadata": {},
   "source": [
    "<h2 style=\"font-weight: bold;\">6.A)<u>Conditions pour réaliser une ANOVA entre une variable qualitative et une variable quantitative</u></h2> "
   ]
  },
  {
   "cell_type": "markdown",
   "id": "bbb5d3f2-daa2-44f4-b3d6-f051a5382c74",
   "metadata": {},
   "source": [
    "#### 📌 La variable qualitative doit être catégorielle  \n",
    "- Elle représente des groupes (ex. : `\"Type de produit\"` = Fruits, Légumes, Viandes).  \n",
    "- Elle doit comporter **au moins deux niveaux** (ANOVA à un facteur) mais peut en avoir plus.  \n",
    "\n",
    "#### 📌 La variable quantitative doit être continue  \n",
    "- Elle doit mesurer une caractéristique numérique (ex. : `\"Teneur en protéines\"` en g/100g).  \n",
    "- **Pas d'ANOVA avec une variable binaire ou ordinale** (dans ce cas, on utiliserait plutôt un **test de Kruskal-Wallis** si la normalité n'est pas respectée).  \n",
    "\n",
    "#### 📌 Normalité des résidus (hypothèse fondamentale de l'ANOVA)  \n",
    "- Les résidus (écarts entre valeurs observées et moyennes des groupes) doivent suivre **une distribution normale**.  \n",
    "- Vérification possible avec un **test de Shapiro-Wilk** ou **test de Kolmogorov-Smirnov (KS)** ou une **visualisation** (*QQ-plot, histogramme des résidus, boxplot par groupe*).  \n",
    "\n",
    "#### 📌 Homogénéité des variances (homoscédasticité)  \n",
    "- Les variances de la variable quantitative doivent être **similaires** entre les groupes définis par la variable qualitative.  \n",
    "- Vérification avec un **test de Levene** ou **test de Bartlett**.  \n",
    "- Si cette hypothèse n’est pas respectée, on peut utiliser une **ANOVA de Welch**, qui ne suppose pas l’égalité des variances.  \n",
    "\n",
    "#### 📌 Indépendance des observations  \n",
    "- Chaque observation doit être **indépendante** des autres.  \n",
    "- En cas de dépendance (ex. : mesures répétées sur les mêmes individus), une **ANOVA à mesures répétées** est nécessaire.  \n",
    "\n",
    "\n",
    "\n",
    "\n",
    "\n",
    "\n",
    "\n"
   ]
  },
  {
   "cell_type": "markdown",
   "id": "e557c69a-4218-4e0b-bae4-d9cca9a5b5d1",
   "metadata": {},
   "source": [
    "<h2 style=\"font-weight: bold;\">6.B)<u>TESTS SHAPIRO-WILK, KOLMOGROV-SMIRNOV, LEVENE ET KRUSKAL-WALLIS</u></h2> "
   ]
  },
  {
   "cell_type": "code",
   "execution_count": 2,
   "id": "4108f1e6-fb29-44f9-94c7-2cbd413c64b1",
   "metadata": {},
   "outputs": [
    {
     "name": "stdout",
     "output_type": "stream",
     "text": [
      "\n",
      "🔹 Analyse pour omega-3-fat_100g :\n",
      "  - Test de Shapiro-Wilk : p-value = 0.00000 ❌ Non normal\n",
      "  - Test de Kolmogorov-Smirnov : p-value = 0.00000\n",
      "  - Test de Levene (homogénéité) : p-value = 0.09212 ✅ Homogène\n",
      "  - Kruskal-Wallis : p-value = 0.00000 ⚠️ Différence significative !\n",
      "\n",
      "🔹 Analyse pour omega-6-fat_100g :\n",
      "  - Test de Shapiro-Wilk : p-value = 0.00000 ❌ Non normal\n",
      "  - Test de Kolmogorov-Smirnov : p-value = 0.00000\n",
      "  - Test de Levene (homogénéité) : p-value = 0.00000 ❌ Non homogène\n",
      "  - Kruskal-Wallis : p-value = 0.00000 ⚠️ Différence significative !\n",
      "\n",
      "🔹 Analyse pour iron_100g :\n",
      "  - Test de Shapiro-Wilk : p-value = 0.00000 ❌ Non normal\n",
      "  - Test de Kolmogorov-Smirnov : p-value = 0.00000\n",
      "  - Test de Levene (homogénéité) : p-value = 0.21975 ✅ Homogène\n",
      "  - Kruskal-Wallis : p-value = 0.00000 ⚠️ Différence significative !\n",
      "\n",
      "🔹 Analyse pour calcium_100g :\n",
      "  - Test de Shapiro-Wilk : p-value = 0.00000 ❌ Non normal\n",
      "  - Test de Kolmogorov-Smirnov : p-value = 0.00000\n",
      "  - Test de Levene (homogénéité) : p-value = 0.00000 ❌ Non homogène\n",
      "  - Kruskal-Wallis : p-value = 0.00000 ⚠️ Différence significative !\n",
      "\n",
      "🔹 Analyse pour energy-from-fat_100g :\n",
      "  - Test de Shapiro-Wilk : p-value = 0.00000 ❌ Non normal\n",
      "  - Test de Kolmogorov-Smirnov : p-value = 0.00000\n",
      "  - Test de Levene (homogénéité) : p-value = 0.00000 ❌ Non homogène\n",
      "  - Kruskal-Wallis : p-value = 0.00000 ⚠️ Différence significative !\n"
     ]
    }
   ],
   "source": [
    "# Imputation seulement sur les colonnes 'omega-3-fat_100g', 'omega-6-fat_100g', 'iron_100g', 'calcium_100g' et 'energy-from-fat_100g'\n",
    "df_imputed_selected = impute_missing_values(nutritional_products, columns=columns_select)\n",
    "\n",
    "\n",
    "# Comparaison avec une sélection de variables\n",
    "analyze_variables(df_imputed_selected, 'nutrition_grade_fr', features=columns_select)"
   ]
  },
  {
   "cell_type": "markdown",
   "id": "da00685c-573d-4e7a-9068-d285b54eeac7",
   "metadata": {},
   "source": [
    "<h2 style=\"font-weight: bold;\">6.C)<u>Si toutes les conditions de l’ANOVA sont respectées</u></h2> "
   ]
  },
  {
   "cell_type": "markdown",
   "id": "c4cb0ed0-5baf-4617-a289-7739b2fb11da",
   "metadata": {},
   "source": [
    "<h3><u>Exemple ANOVA</u></h3> "
   ]
  },
  {
   "cell_type": "code",
   "execution_count": 4,
   "id": "3ad82a55-88e7-442c-b5ad-a947c91706a7",
   "metadata": {},
   "outputs": [
    {
     "name": "stdout",
     "output_type": "stream",
     "text": [
      "Statistique F : 47.388888888888886\n",
      "Valeur p : 0.00021103739543271226\n",
      "Les moyennes des groupes sont significativement différentes.\n"
     ]
    }
   ],
   "source": [
    "# Exemple de DataFrame\n",
    "data = {\n",
    "    'type_produit': ['Fruit', 'Légume', 'Fruit', 'Viande', 'Légume', 'Viande', 'Fruit', 'Légume', 'Viande'],\n",
    "    'calories': [50, 30, 60, 150, 40, 200, 55, 35, 220]\n",
    "}\n",
    "\n",
    "df = pd.DataFrame(data)\n",
    "\n",
    "# Anova - Hypothèse : les moyennes de calories diffèrent selon le type de produit\n",
    "# On crée un dictionnaire pour séparer les données en groupes\n",
    "groupes = [df[df['type_produit'] == groupe]['calories'] for groupe in df['type_produit'].unique()]\n",
    "\n",
    "# Effectuer l'ANOVA\n",
    "f_stat, p_value = stats.f_oneway(*groupes)\n",
    "\n",
    "# Afficher les résultats\n",
    "print(f\"Statistique F : {f_stat}\")\n",
    "print(f\"Valeur p : {p_value}\")\n",
    "\n",
    "# Interprétation\n",
    "if p_value < 0.05:\n",
    "    print(\"Les moyennes des groupes sont significativement différentes.\")\n",
    "else:\n",
    "    print(\"Aucune différence significative entre les moyennes des groupes.\")\n"
   ]
  },
  {
   "cell_type": "code",
   "execution_count": null,
   "id": "7ae8534b-741d-411d-8f0e-ec5b0f123072",
   "metadata": {},
   "outputs": [],
   "source": []
  }
 ],
 "metadata": {
  "kernelspec": {
   "display_name": "Poetry Environnement",
   "language": "python",
   "name": "poetry-env"
  },
  "language_info": {
   "codemirror_mode": {
    "name": "ipython",
    "version": 3
   },
   "file_extension": ".py",
   "mimetype": "text/x-python",
   "name": "python",
   "nbconvert_exporter": "python",
   "pygments_lexer": "ipython3",
   "version": "3.13.1"
  }
 },
 "nbformat": 4,
 "nbformat_minor": 5
}
